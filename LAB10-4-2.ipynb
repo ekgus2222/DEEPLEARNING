{
 "cells": [
  {
   "cell_type": "code",
   "execution_count": 1,
   "id": "marine-hawaii",
   "metadata": {},
   "outputs": [],
   "source": [
    "import torch\n",
    "import torch.nn as nn\n",
    "import torch.nn.functional as F\n",
    "\n",
    "import torch.optim as optim\n",
    "from torch.utils.data import DataLoader\n",
    "\n",
    "import torchvision\n",
    "import torchvision.transforms as transforms"
   ]
  },
  {
   "cell_type": "code",
   "execution_count": 2,
   "id": "architectural-latino",
   "metadata": {},
   "outputs": [],
   "source": [
    "device = 'cuda' if torch.cuda.is_available() else 'cpu'\n",
    "\n",
    "torch.manual_seed(777)\n",
    "if device =='cuda':\n",
    "    torch.cuda.manual_seed_all(777)"
   ]
  },
  {
   "cell_type": "markdown",
   "id": "fresh-patio",
   "metadata": {},
   "source": [
    "###### ToTensor로 바꿔야 입력이 됨  \n",
    "\n",
    "trans = transforms.Compose([  \n",
    "----transforms.ToTensor()   \n",
    "])\n",
    "\n",
    "###### train_data를 imageFolder를 통해서 dataset으로 사용  \n",
    "\n",
    "train_data = torchvision.datasets.ImageFolder(root='./custom_data/train_data', transform=trans)\n"
   ]
  },
  {
   "cell_type": "markdown",
   "id": "neural-avatar",
   "metadata": {},
   "source": [
    "data_loader = DataLoader(dataset = train_data, batch_size = 8, shuffle = True, num_workers=2)"
   ]
  },
  {
   "cell_type": "code",
   "execution_count": 5,
   "id": "registered-signal",
   "metadata": {},
   "outputs": [],
   "source": [
    "class CNN(nn.Module):\n",
    "    def __init__(self):\n",
    "        super(CNN, self).__init__()\n",
    "        self.layer1 = nn.Sequential(\n",
    "            nn.Conv2d(3,6,5),\n",
    "            nn.ReLU(),\n",
    "            nn.MaxPool2d(2),\n",
    "        )\n",
    "        self.layer2 = nn.Sequential(\n",
    "            nn.Conv2d(6,16,5),\n",
    "            nn.ReLU(),\n",
    "            nn.MaxPool2d(2),\n",
    "        )\n",
    "        self.layer3 = nn.Sequential(  # Sequential로 묶어서 FC 두번 진행\n",
    "            nn.Linear(16*13*29, 120),\n",
    "            nn.ReLU(),\n",
    "            nn.Linear(120,2)\n",
    "        )\n",
    "        \n",
    "    def forward(self, x):\n",
    "        out = self.layer1(x)\n",
    "        #print(out.shape) -> 각 layer를 통과하고 나와서 어떤 크기로 되는지 바로 보임\n",
    "        out = self.layer2(out)\n",
    "        #print(out.shape) # 확인 후엔 꼭 지워줘야함\n",
    "        out = out.view(out.shape[0], -1)\n",
    "        #print(out.shape)\n",
    "        out = self.layer3(out)\n",
    "        return out"
   ]
  },
  {
   "cell_type": "code",
   "execution_count": 6,
   "id": "agricultural-sister",
   "metadata": {},
   "outputs": [],
   "source": [
    "#testing \n",
    "net = CNN().to(device)\n",
    "test_input = (torch.Tensor(3,3,64,128)).to(device)\n",
    "test_out = net(test_input)\n",
    "\n",
    "#결과 :\n",
    "##torch.Size([3,6,30,62])\n",
    "##torch.Size([3,16,13,29])\n",
    "##torch.Size([3,6032])"
   ]
  },
  {
   "cell_type": "code",
   "execution_count": 11,
   "id": "adapted-nigeria",
   "metadata": {},
   "outputs": [],
   "source": [
    "optimizer = optim.Adam(net.parameters(), lr=0.00005)\n",
    "loss_func = nn.CrossEntropyLoss().to(device) #loss는 cross_entropy_loss 사용"
   ]
  },
  {
   "cell_type": "markdown",
   "id": "proved-location",
   "metadata": {},
   "source": [
    "total_batch = len(data_loader)\n",
    "\n",
    "epochs = 7\n",
    "for epoch in range(epochs):  \n",
    "----avg_cost = 0.0  \n",
    "----for num, data in enumerate(data_loader):  \n",
    "--------imgs, labels = data  \n",
    "--------imgs = imgs.to(device)  \n",
    "--------labels = labels.to(device)  \n",
    "--------optimizer.zero_grad()  \n",
    "--------out = net(imgs)  \n",
    "--------loss = loss_func(out, labels)  \n",
    "--------loss.backward()  \n",
    "--------optimizer.step()\n",
    "        \n",
    "--------avg_cost += loss / total_batch\n",
    "        \n",
    "----print('[Epoch:{}] cost = {}'.format(epoch+1, avg_cost))\n",
    "print('Learning Finished!')"
   ]
  },
  {
   "cell_type": "markdown",
   "id": "immune-comparison",
   "metadata": {},
   "source": [
    "###### 모델을 save해서 다시 불러오는 방법\n",
    "torch.szve()를 이용해서 그 network의 state_dict값 저장\n",
    "  \n",
    "torch.save(net.state_dict(), \"./model/model.pth\")"
   ]
  },
  {
   "cell_type": "code",
   "execution_count": 12,
   "id": "changing-invitation",
   "metadata": {},
   "outputs": [],
   "source": [
    "#불러오려면 network의 모형은 같아야함\n",
    "new_net = CNN().to(device) # net과 일치함"
   ]
  },
  {
   "cell_type": "markdown",
   "id": "beneficial-drive",
   "metadata": {},
   "source": [
    "new_net.load_state_dict(torch.load('./model/model.pth'))"
   ]
  },
  {
   "cell_type": "markdown",
   "id": "ultimate-listening",
   "metadata": {},
   "source": [
    "###### new_net과 net 비교\n",
    "print(net.layer1[0])\n",
    "print(new_net.layer1[0])\n",
    "\n",
    "##net.layer1[0](Convolution layer)의 weight값의 3번째 index 뽑기 \n",
    "print(net.layer1[0].weight[0][0][0])  \n",
    "print(new_net.layer1[0].weight[0][0][0])\n",
    "\n",
    "net.layer1[0].weight[0] == new_net.layer1[0].weight[0]  \n",
    "  \n",
    "##결과는 둘이 똑같이 나옴"
   ]
  },
  {
   "cell_type": "markdown",
   "id": "frozen-manner",
   "metadata": {},
   "source": [
    "###### 학습시킨 model test\n",
    "trans=torchvision.transforms.Compose([  \n",
    "----transforms.Resize((64,128)),  ##resize  \n",
    "----transforms.ToTensor()  ##ToTensor  \n",
    "])  \n",
    "test_data = torchvision.datasets.ImageFolder(root='./custom_data/test_data', transform=trans)"
   ]
  },
  {
   "cell_type": "markdown",
   "id": "danish-brooks",
   "metadata": {},
   "source": [
    "test_set = DataLoader(dataset = test_data, batch_size = len(test_data))  \n",
    "#그냥 한 번에 쓸 수 있게 test dataset의 길이 만큼으로 그냥 batch_size를 한 번에 받을 수 있게"
   ]
  },
  {
   "cell_type": "markdown",
   "id": "periodic-schedule",
   "metadata": {},
   "source": [
    "with torch.no_grad():\n",
    "----for num, data in enumerate(test_set):\n",
    "-------imgs, label = data\n",
    "-------imgs = imgs.to(device)\n",
    "-------label = label.to(device)\n",
    "        \n",
    "-------prediction = net(imgs)\n",
    "        \n",
    "-------correct_prediction = torch.argmax(prediction, 1) == label\n",
    "        \n",
    "-------accuracy = correct_prediction.float().mean()\n",
    "-------print('Accuracy:', accuracy.item())\n",
    "\n",
    "### 정확도 0.579정도 나옴 => 올리려면 epoch를 늘리거나 lr을 키움"
   ]
  }
 ],
 "metadata": {
  "kernelspec": {
   "display_name": "Python 3",
   "language": "python",
   "name": "python3"
  },
  "language_info": {
   "codemirror_mode": {
    "name": "ipython",
    "version": 3
   },
   "file_extension": ".py",
   "mimetype": "text/x-python",
   "name": "python",
   "nbconvert_exporter": "python",
   "pygments_lexer": "ipython3",
   "version": "3.8.5"
  }
 },
 "nbformat": 4,
 "nbformat_minor": 5
}
