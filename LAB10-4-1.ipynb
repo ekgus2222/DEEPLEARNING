{
 "cells": [
  {
   "cell_type": "code",
   "execution_count": 1,
   "id": "resistant-marketing",
   "metadata": {},
   "outputs": [],
   "source": [
    "import torchvision\n",
    "from torchvision import transforms\n",
    "\n",
    "from torch.utils.data import DataLoader"
   ]
  },
  {
   "cell_type": "code",
   "execution_count": 6,
   "id": "sapphire-delight",
   "metadata": {},
   "outputs": [],
   "source": [
    "# 불러온 사진이 python image 라이브러리를 통해서 불러와지기 때문에 주피터 노트북 상에서 표시하기 위해 추가\n",
    "from matplotlib.pyplot import imshow # 단순히 image를 불러오기 위한 function\n",
    "# matplotlib에 출력값이 주피터 노트북 상에 표현되게 해주세요\n",
    "%matplotlib inline "
   ]
  },
  {
   "cell_type": "markdown",
   "id": "continent-relations",
   "metadata": {},
   "source": [
    "!ls => 지금 있는 위치에서 커맨드를 입력 => 하위폴더 출력"
   ]
  },
  {
   "cell_type": "markdown",
   "id": "discrete-bailey",
   "metadata": {},
   "source": [
    "train_data = torchvision.datasets.ImageFolder(root='이미지 폴더명',transform=None)\n",
    "\n",
    "#확인\n",
    "##num = 사진의 숫자 \n",
    "for num, value in enumerate(train_data):\n",
    "    data, label = value\n",
    "    print(num,data,label)\n",
    "    \n",
    "    # 사진 확인\n",
    "    imshow(data)\n",
    "    break"
   ]
  },
  {
   "cell_type": "markdown",
   "id": "fresh-enclosure",
   "metadata": {},
   "source": [
    "#512 x 256 => 128 x 64\n",
    "tras = transforms.Compose([\n",
    "    transforms.Resize((64,128))\n",
    "])\n",
    "train_data = torchvision.datasets.ImageFolder(root='이미지 폴더명',transform=trans)\n",
    "\n",
    "#확인\n",
    "##num = 사진의 숫자 \n",
    "for num, value in enumerate(train_data):\n",
    "    data, label = value\n",
    "    print(num,data,label)\n",
    "    \n",
    "    #존재하는 폴더명 써야함\n",
    "    if(label == 0): #회색일때\n",
    "        data.save('custom_data/train_data/gray/%d_%.jpeg'%(num,label))\n",
    "        \n",
    "    else: #label == 1 #붉은색일때\n",
    "        data.save('custom_data/train_data/red/%d_%.jpeg'%(num,label))"
   ]
  }
 ],
 "metadata": {
  "kernelspec": {
   "display_name": "Python 3",
   "language": "python",
   "name": "python3"
  },
  "language_info": {
   "codemirror_mode": {
    "name": "ipython",
    "version": 3
   },
   "file_extension": ".py",
   "mimetype": "text/x-python",
   "name": "python",
   "nbconvert_exporter": "python",
   "pygments_lexer": "ipython3",
   "version": "3.8.5"
  }
 },
 "nbformat": 4,
 "nbformat_minor": 5
}
