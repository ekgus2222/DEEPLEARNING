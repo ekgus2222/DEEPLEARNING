{
 "cells": [
  {
   "cell_type": "code",
   "execution_count": 8,
   "id": "north-desire",
   "metadata": {},
   "outputs": [],
   "source": [
    "import torch\n",
    "import torchvision.datasets as dsets\n",
    "import torch.nn as nn\n",
    "import torchvision.transforms as transforms\n",
    "\n",
    "import torch.nn.init"
   ]
  },
  {
   "cell_type": "code",
   "execution_count": 9,
   "id": "dried-fitting",
   "metadata": {},
   "outputs": [],
   "source": []
  },
  {
   "cell_type": "code",
   "execution_count": 16,
   "id": "behind-reference",
   "metadata": {},
   "outputs": [
    {
     "data": {
      "text/plain": [
       "True"
      ]
     },
     "execution_count": 16,
     "metadata": {},
     "output_type": "execute_result"
    }
   ],
   "source": [
    "torch.cuda.is_available()"
   ]
  },
  {
   "cell_type": "code",
   "execution_count": 10,
   "id": "appreciated-texture",
   "metadata": {},
   "outputs": [],
   "source": [
    "#parameters -> 나중에 넣어도 상관없음\n",
    "learning_rate = 0.001\n",
    "training_epochs = 15\n",
    "batch_size = 100  #batch_size는 100개가 된다"
   ]
  },
  {
   "cell_type": "code",
   "execution_count": 11,
   "id": "european-sleeping",
   "metadata": {},
   "outputs": [],
   "source": [
    "#MNIST dataset\n",
    "\n",
    "mnist_train = dsets.MNIST(root='MNIST_data/',\n",
    "                        train = True,\n",
    "                        transform = transforms.ToTensor(),  # -> input data를 어떻게 변환할지\n",
    "                                                            # 그냥 받아오면 Tensor value가 아니라서 mnist_data를 Tensor value로 전환\n",
    "                        download = True)\n",
    "\n",
    "mnist_test = dsets.MNIST(root='MNIST_data/',\n",
    "                        train = False,\n",
    "                        transform = transforms.ToTensor(),  # tensor로 변환\n",
    "                        download = True)\n"
   ]
  },
  {
   "cell_type": "code",
   "execution_count": 12,
   "id": "severe-spank",
   "metadata": {},
   "outputs": [],
   "source": [
    "data_loader = torch.utils.data.DataLoader(dataset=mnist_train,\n",
    "                                          batch_size = batch_size,\n",
    "                                          shuffle = True, # dataset을 섞은 상태로 던져준다.\n",
    "                                          drop_last=True)"
   ]
  },
  {
   "cell_type": "code",
   "execution_count": 18,
   "id": "drawn-masters",
   "metadata": {},
   "outputs": [],
   "source": [
    "#model  -> cnn 모듈 만들기\n",
    "\n",
    "class CNN(nn.Module):\n",
    "    \n",
    "    def __init__(self):  # 초기함수 -> 이거 빼먹으면 학습 안됨.\n",
    "        super(CNN,self).__init__()\n",
    "        self.layer1 = nn.Sequential(   # nn.Sequential은 그냥 치고 내가 원하는걸 만들어서 넣는 방식으로 사용\n",
    "            nn.Conv2d(1,32,kernel_size=3, stride=1, padding=1), # layer 한 개 쌓임\n",
    "            nn.ReLU(),\n",
    "            nn.MaxPool2d(2)\n",
    "        )\n",
    "        \n",
    "        self.layer2 = nn.Sequential(\n",
    "            nn.Conv2d(32,64,kernel_size=3,stride=1,padding=1),\n",
    "            nn.ReLU(),\n",
    "            nn.MaxPool2d(2)\n",
    "        )\n",
    "        \n",
    "        self.fc = nn.Linear(7*7*64, 10, bias = True) \n",
    "        torch.nn.init.xavier_uniform_(self.fc.weight)\n",
    "        \n",
    "    def forward(self,x):\n",
    "        out = self.layer1(x)\n",
    "        out = self.layer2(out)\n",
    "        \n",
    "        out = out.view(out.size(0),-1)\n",
    "        out = self.fc(out)\n",
    "        \n",
    "        return out"
   ]
  },
  {
   "cell_type": "code",
   "execution_count": 19,
   "id": "prescribed-disorder",
   "metadata": {},
   "outputs": [],
   "source": [
    "model = CNN().to(device)\n",
    "\n",
    "value"
   ]
  },
  {
   "cell_type": "code",
   "execution_count": 21,
   "id": "ready-ebony",
   "metadata": {},
   "outputs": [
    {
     "data": {
      "text/plain": [
       "CNN(\n",
       "  (layer1): Sequential(\n",
       "    (0): Conv2d(1, 32, kernel_size=(3, 3), stride=(1, 1), padding=(1, 1))\n",
       "    (1): ReLU()\n",
       "    (2): MaxPool2d(kernel_size=2, stride=2, padding=0, dilation=1, ceil_mode=False)\n",
       "  )\n",
       "  (layer2): Sequential(\n",
       "    (0): Conv2d(32, 64, kernel_size=(3, 3), stride=(1, 1), padding=(1, 1))\n",
       "    (1): ReLU()\n",
       "    (2): MaxPool2d(kernel_size=2, stride=2, padding=0, dilation=1, ceil_mode=False)\n",
       "  )\n",
       "  (fc): Linear(in_features=3136, out_features=10, bias=True)\n",
       ")"
      ]
     },
     "execution_count": 21,
     "metadata": {},
     "output_type": "execute_result"
    }
   ],
   "source": [
    "model \n",
    "#layer1, layer2, fully_connected layer을 통과할 수 있는 layer들을 가지고 있는 모델이 생성"
   ]
  },
  {
   "cell_type": "code",
   "execution_count": 24,
   "id": "latter-career",
   "metadata": {},
   "outputs": [],
   "source": [
    "criterion = nn.CrossEntropyLoss().to(device)\n",
    "optimizer = torch.optim.Adam(model.parameters(),lr=learning_rate)"
   ]
  },
  {
   "cell_type": "code",
   "execution_count": 26,
   "id": "downtown-origin",
   "metadata": {},
   "outputs": [
    {
     "name": "stdout",
     "output_type": "stream",
     "text": [
      "[Epoch:1] cost = 0.007500140927731991\n",
      "[Epoch:2] cost = 0.0057548354379832745\n",
      "[Epoch:3] cost = 0.00433866074308753\n",
      "[Epoch:4] cost = 0.004347255919128656\n",
      "[Epoch:5] cost = 0.004201987292617559\n",
      "[Epoch:6] cost = 0.004209483973681927\n",
      "[Epoch:7] cost = 0.004311944358050823\n",
      "[Epoch:8] cost = 0.00291151599958539\n",
      "[Epoch:9] cost = 0.002519402652978897\n",
      "[Epoch:10] cost = 0.004405844956636429\n",
      "[Epoch:11] cost = 0.0017666355706751347\n",
      "[Epoch:12] cost = 0.0026767386589199305\n",
      "[Epoch:13] cost = 0.00252183573320508\n",
      "[Epoch:14] cost = 0.0006437206757254899\n",
      "[Epoch:15] cost = 0.0031178344506770372\n",
      "Learning Finished!\n"
     ]
    }
   ],
   "source": [
    "#training\n",
    "total_batch = len(data_loader) # batch_size가 몇인지를 알 수 있음 (전체의 batch가 몇인지)\n",
    "\n",
    "for epoch in range(training_epochs):\n",
    "    avg_cost = 0 #loss를 담을 것\n",
    "    \n",
    "    for X, Y in data_loader: # X = input image, Y = label\n",
    "        # CUDA 연산을 진행하려면 torch.Tensor가 아니라 torch.cuda.Tensor가 되어있어야함\n",
    "        # 없으면 아예 학습이 안된다.\n",
    "        # input data, label data를 device에 맞춰서 설정해주는 작업\n",
    "        X = X.to(device)\n",
    "        Y = Y.to(device)   \n",
    "        \n",
    "        optimizer.zero_grad()\n",
    "        hypothesis = model(X) # model에 input값 넣은 출력값\n",
    "        \n",
    "        # model에 input 값을 집어넣고 나온 cost는 cross_entropy로 계산\n",
    "        cost = criterion(hypothesis, Y) # 가설과 실제 label 사이 차이 계산\n",
    "        cost.backward()\n",
    "        optimizer.step() # cost.backward()값을 토대로 model을 학습시키는 과정\n",
    "        \n",
    "        avg_cost += cost / total_batch\n",
    "        \n",
    "    \n",
    "    print('[Epoch:{}] cost = {}'.format(epoch+1,avg_cost))\n",
    "    \n",
    "print('Learning Finished!')"
   ]
  },
  {
   "cell_type": "code",
   "execution_count": 27,
   "id": "further-harrison",
   "metadata": {},
   "outputs": [
    {
     "name": "stderr",
     "output_type": "stream",
     "text": [
      "C:\\Users\\user\\.conda\\envs\\deeprunning2\\lib\\site-packages\\torchvision\\datasets\\mnist.py:63: UserWarning: test_data has been renamed data\n",
      "  warnings.warn(\"test_data has been renamed data\")\n",
      "C:\\Users\\user\\.conda\\envs\\deeprunning2\\lib\\site-packages\\torchvision\\datasets\\mnist.py:53: UserWarning: test_labels has been renamed targets\n",
      "  warnings.warn(\"test_labels has been renamed targets\")\n"
     ]
    },
    {
     "name": "stdout",
     "output_type": "stream",
     "text": [
      "Accuracy: 0.9856999516487122\n"
     ]
    }
   ],
   "source": [
    "with torch.no_grad(): # 학습 x , test o\n",
    "    # 아까 mnist_test에서 불러옴\n",
    "    X_test = mnist_test.test_data.view(len(mnist_test),1,28,28).float().to(device) #len()은 전체 값을 불러서 한 번에 집어넣으려고 펼친 것\n",
    "    Y_test = mnist_test.test_labels.to(device)\n",
    "    \n",
    "    prediction = model(X_test) # 한 번에 집어넣음\n",
    "    correct_prediction = torch.argmax(prediction, 1) == Y_test # Y_test와 비교\n",
    "    accuracy = correct_prediction.float().mean() # 평균\n",
    "    print('Accuracy:',accuracy.item())"
   ]
  }
 ],
 "metadata": {
  "kernelspec": {
   "display_name": "Python 3",
   "language": "python",
   "name": "python3"
  },
  "language_info": {
   "codemirror_mode": {
    "name": "ipython",
    "version": 3
   },
   "file_extension": ".py",
   "mimetype": "text/x-python",
   "name": "python",
   "nbconvert_exporter": "python",
   "pygments_lexer": "ipython3",
   "version": "3.8.5"
  }
 },
 "nbformat": 4,
 "nbformat_minor": 5
}
