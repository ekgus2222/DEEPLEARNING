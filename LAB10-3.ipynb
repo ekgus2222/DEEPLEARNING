{
 "cells": [
  {
   "cell_type": "markdown",
   "id": "everyday-bride",
   "metadata": {},
   "source": [
    "# 10-3 MNIST-CNN woth Visdom"
   ]
  },
  {
   "cell_type": "code",
   "execution_count": 8,
   "id": "fabulous-office",
   "metadata": {},
   "outputs": [],
   "source": [
    "import torch\n",
    "import torchvision.datasets as dsets\n",
    "import torch.nn as nn\n",
    "import torchvision.transforms as transforms\n",
    "\n",
    "import torch.nn.init"
   ]
  },
  {
   "cell_type": "markdown",
   "id": "ceramic-signature",
   "metadata": {},
   "source": [
    "### import visdom"
   ]
  },
  {
   "cell_type": "code",
   "execution_count": 9,
   "id": "organic-optimization",
   "metadata": {},
   "outputs": [
    {
     "name": "stderr",
     "output_type": "stream",
     "text": [
      "Setting up a new session...\n"
     ]
    },
    {
     "data": {
      "text/plain": [
       "''"
      ]
     },
     "execution_count": 9,
     "metadata": {},
     "output_type": "execute_result"
    }
   ],
   "source": [
    "import visdom\n",
    "vis = visdom.Visdom()\n",
    "vis.close(env=\"main\")"
   ]
  },
  {
   "cell_type": "markdown",
   "id": "gross-recording",
   "metadata": {},
   "source": [
    "### define loss_tracker"
   ]
  },
  {
   "cell_type": "code",
   "execution_count": 10,
   "id": "adjacent-prime",
   "metadata": {},
   "outputs": [],
   "source": [
    "def loss_tracker(loss_plot, loss_value, num):  # update할 plot의 이름, loss값이 무엇인지, index(loss값이 들어갈 자리)\n",
    "    # num&loss_value, are Tensor\n",
    "    vis.line(X=num,\n",
    "             Y=loss_value,\n",
    "             win=loss_plot,\n",
    "             update='append'\n",
    "            )"
   ]
  },
  {
   "cell_type": "code",
   "execution_count": 11,
   "id": "uniform-georgia",
   "metadata": {},
   "outputs": [],
   "source": [
    "device = 'cuda' if torch.cuda.is_available() else 'cpu'\n",
    "\n",
    "torch.manual_seed(777)  #random value 고정 코드\n",
    "if device == 'cuda':\n",
    "    torch.cuda.manual_seed_all(777)"
   ]
  },
  {
   "cell_type": "code",
   "execution_count": 12,
   "id": "communist-lender",
   "metadata": {},
   "outputs": [],
   "source": [
    "#parameters \n",
    "learning_rate = 0.001\n",
    "training_epochs = 15\n",
    "batch_size = 32"
   ]
  },
  {
   "cell_type": "code",
   "execution_count": 13,
   "id": "terminal-wyoming",
   "metadata": {},
   "outputs": [],
   "source": [
    "#MNIST dataset\n",
    "\n",
    "mnist_train = dsets.MNIST(root='MNIST_data/',\n",
    "                        train = True,\n",
    "                        transform = transforms.ToTensor(),  # -> input data를 어떻게 변환할지\n",
    "                                                            # 그냥 받아오면 Tensor value가 아니라서 mnist_data를 Tensor value로 전환\n",
    "                        download = True)\n",
    "\n",
    "mnist_test = dsets.MNIST(root='MNIST_data/',\n",
    "                        train = False,\n",
    "                        transform = transforms.ToTensor(),  # tensor로 변환\n",
    "                        download = True)\n"
   ]
  },
  {
   "cell_type": "code",
   "execution_count": 14,
   "id": "collective-proof",
   "metadata": {},
   "outputs": [],
   "source": [
    "data_loader = torch.utils.data.DataLoader(dataset=mnist_train,\n",
    "                                          batch_size = batch_size,\n",
    "                                          shuffle = True, # dataset을 섞은 상태로 던져준다.\n",
    "                                          drop_last=True)"
   ]
  },
  {
   "cell_type": "code",
   "execution_count": 15,
   "id": "freelance-lambda",
   "metadata": {},
   "outputs": [],
   "source": [
    "#model  -> cnn 모듈 만들기\n",
    "\n",
    "class CNN(nn.Module):\n",
    "    \n",
    "    def __init__(self):  # 초기함수 -> 이거 빼먹으면 학습 안됨.\n",
    "        super(CNN,self).__init__()\n",
    "        self.layer1 = nn.Sequential(   # nn.Sequential은 그냥 치고 내가 원하는걸 만들어서 넣는 방식으로 사용\n",
    "            nn.Conv2d(1,32,kernel_size=3, stride=1, padding=1), # layer 한 개 쌓임\n",
    "            nn.ReLU(),\n",
    "            nn.MaxPool2d(2)\n",
    "        )\n",
    "        \n",
    "        self.layer2 = nn.Sequential(\n",
    "            nn.Conv2d(32,64,kernel_size=3,stride=1,padding=1),\n",
    "            nn.ReLU(),\n",
    "            nn.MaxPool2d(2)\n",
    "        )\n",
    "        \n",
    "        self.fc = nn.Linear(7*7*64, 10, bias = True) \n",
    "        torch.nn.init.xavier_uniform_(self.fc.weight)\n",
    "        \n",
    "    def forward(self,x):\n",
    "        out = self.layer1(x)\n",
    "        out = self.layer2(out)\n",
    "        \n",
    "        out = out.view(out.size(0),-1)\n",
    "        out = self.fc(out)\n",
    "        \n",
    "        return out"
   ]
  },
  {
   "cell_type": "code",
   "execution_count": 19,
   "id": "premier-group",
   "metadata": {},
   "outputs": [
    {
     "name": "stdout",
     "output_type": "stream",
     "text": [
      "torch.Size([1, 10])\n"
     ]
    }
   ],
   "source": [
    "model = CNN().to(device)\n",
    "\n",
    "# model 테스트\n",
    "value = (torch.Tensor(1,1,28,28)).to(device)\n",
    "print( (model(value)).shape  )"
   ]
  },
  {
   "cell_type": "code",
   "execution_count": 20,
   "id": "forbidden-mother",
   "metadata": {},
   "outputs": [],
   "source": [
    "criterion = nn.CrossEntropyLoss().to(device)\n",
    "optimizer = torch.optim.Adam(model.parameters(),lr=learning_rate)"
   ]
  },
  {
   "cell_type": "markdown",
   "id": "italic-gasoline",
   "metadata": {},
   "source": [
    "### make plot\n",
    "10-2랑 다른 부분"
   ]
  },
  {
   "cell_type": "code",
   "execution_count": 21,
   "id": "smoking-ceramic",
   "metadata": {},
   "outputs": [],
   "source": [
    "loss_plt = vis.line(Y=torch.Tensor(1).zero_(),opts=dict(title='loss_tracker', legend=['loss'], showlegend=True))"
   ]
  },
  {
   "cell_type": "markdown",
   "id": "unsigned-courtesy",
   "metadata": {},
   "source": [
    "### train with loss_tracker"
   ]
  },
  {
   "cell_type": "code",
   "execution_count": 23,
   "id": "complete-baghdad",
   "metadata": {},
   "outputs": [
    {
     "name": "stdout",
     "output_type": "stream",
     "text": [
      "[Epoch:1] cost = 0.05169275030493736\n",
      "[Epoch:2] cost = 0.037330009043216705\n",
      "[Epoch:3] cost = 0.0285178292542696\n",
      "[Epoch:4] cost = 0.021362457424402237\n",
      "[Epoch:5] cost = 0.017661433666944504\n",
      "[Epoch:6] cost = 0.013687617145478725\n",
      "[Epoch:7] cost = 0.010581240057945251\n",
      "[Epoch:8] cost = 0.008344694040715694\n",
      "[Epoch:9] cost = 0.008169867098331451\n",
      "[Epoch:10] cost = 0.006502591073513031\n",
      "[Epoch:11] cost = 0.006269106641411781\n",
      "[Epoch:12] cost = 0.005767275579273701\n",
      "[Epoch:13] cost = 0.005023234058171511\n",
      "[Epoch:14] cost = 0.0037444753106683493\n",
      "[Epoch:15] cost = 0.003813603427261114\n",
      "Learning Finished!\n"
     ]
    }
   ],
   "source": [
    "#training\n",
    "total_batch = len(data_loader) # batch_size가 몇인지를 알 수 있음 (전체의 batch가 몇인지)\n",
    "\n",
    "for epoch in range(training_epochs):\n",
    "    avg_cost = 0 #loss를 담을 것\n",
    "    \n",
    "    for X, Y in data_loader: # X = input image, Y = label\n",
    "        # CUDA 연산을 진행하려면 torch.Tensor가 아니라 torch.cuda.Tensor가 되어있어야함\n",
    "        # 없으면 아예 학습이 안된다.\n",
    "        # input data, label data를 device에 맞춰서 설정해주는 작업\n",
    "        X = X.to(device)\n",
    "        Y = Y.to(device)   \n",
    "        \n",
    "        optimizer.zero_grad()\n",
    "        hypothesis = model(X) # model에 input값 넣은 출력값\n",
    "        \n",
    "        # model에 input 값을 집어넣고 나온 cost는 cross_entropy로 계산\n",
    "        cost = criterion(hypothesis, Y) # 가설과 실제 label 사이 차이 계산\n",
    "        cost.backward()\n",
    "        optimizer.step() # cost.backward()값을 토대로 model을 학습시키는 과정\n",
    "        \n",
    "        avg_cost += cost / total_batch\n",
    "        \n",
    "    \n",
    "    print('[Epoch:{}] cost = {}'.format(epoch+1,avg_cost))\n",
    "    ##추가된 부분\n",
    "    ### 여기서 loss_plt는 업데이트할 그래프 이름\n",
    "    ### 업데이트하는 X index는 epoch\n",
    "    ### 한 epoch이 끝날 때마다 loss 값의 평균(avg_cost)을 넣는다는 뜻\n",
    "    loss_tracker(loss_plt, torch.Tensor([avg_cost]), torch.Tensor([epoch]))\n",
    "    ##\n",
    "print('Learning Finished!')"
   ]
  }
 ],
 "metadata": {
  "kernelspec": {
   "display_name": "Python 3",
   "language": "python",
   "name": "python3"
  },
  "language_info": {
   "codemirror_mode": {
    "name": "ipython",
    "version": 3
   },
   "file_extension": ".py",
   "mimetype": "text/x-python",
   "name": "python",
   "nbconvert_exporter": "python",
   "pygments_lexer": "ipython3",
   "version": "3.8.5"
  }
 },
 "nbformat": 4,
 "nbformat_minor": 5
}
