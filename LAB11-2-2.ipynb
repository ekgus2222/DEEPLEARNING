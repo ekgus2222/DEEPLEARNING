{
 "cells": [
  {
   "cell_type": "markdown",
   "id": "unique-executive",
   "metadata": {},
   "source": [
    "# RNN - charseq"
   ]
  },
  {
   "cell_type": "code",
   "execution_count": 1,
   "id": "devoted-storage",
   "metadata": {},
   "outputs": [],
   "source": [
    "import torch\n",
    "import torch.optim as optim\n",
    "import numpy as np"
   ]
  },
  {
   "cell_type": "code",
   "execution_count": 2,
   "id": "round-college",
   "metadata": {},
   "outputs": [
    {
     "data": {
      "text/plain": [
       "<torch._C.Generator at 0x1e2114450b0>"
      ]
     },
     "execution_count": 2,
     "metadata": {},
     "output_type": "execute_result"
    }
   ],
   "source": [
    "# Random seed to make results deterministic and reproducible\n",
    "torch.manual_seed(0)"
   ]
  },
  {
   "cell_type": "code",
   "execution_count": 3,
   "id": "disabled-renaissance",
   "metadata": {},
   "outputs": [],
   "source": [
    "sample = \" if you want you\""
   ]
  },
  {
   "cell_type": "code",
   "execution_count": 4,
   "id": "ranking-kruger",
   "metadata": {},
   "outputs": [
    {
     "name": "stdout",
     "output_type": "stream",
     "text": [
      "{'t': 0, 'n': 1, 'y': 2, 'f': 3, 'a': 4, ' ': 5, 'u': 6, 'i': 7, 'w': 8, 'o': 9}\n"
     ]
    }
   ],
   "source": [
    "# make dictionary\n",
    "char_set = list(set(sample)) # set : 중복제거\n",
    "char_dic = {c: i for i, c in enumerate(char_set)} # enumerate로 index와 character 같이 가져옴 & char:index로 매핑해서 dictionary로 만들어줌\n",
    "print(char_dic)"
   ]
  },
  {
   "cell_type": "code",
   "execution_count": 5,
   "id": "martial-hearing",
   "metadata": {},
   "outputs": [],
   "source": [
    "# hyper parameters\n",
    "dic_size = len(char_dic)\n",
    "hidden_size = len(char_dic)\n",
    "learning_rate = 0.1"
   ]
  },
  {
   "cell_type": "code",
   "execution_count": 6,
   "id": "extra-stamp",
   "metadata": {},
   "outputs": [],
   "source": [
    "# data setting\n",
    "sample_idx = [char_dic[c] for c in sample] # index 구하기 # 샘플에서 하나의 character 들을 가져오고 character를 index로 변환\n",
    "x_data = [sample_idx[:-1]] # 마지막 제거\n",
    "x_one_hot = [np.eye(dic_size)[x] for x in x_data]\n",
    "y_data = [sample_idx[1:]] # 처음 제거"
   ]
  },
  {
   "cell_type": "code",
   "execution_count": 7,
   "id": "patent-alliance",
   "metadata": {},
   "outputs": [],
   "source": [
    "# transform as torch tensor variable\n",
    "# numpy와 list로 구성된 data를 Pytorch의 Tensor로 변환\n",
    "X = torch.FloatTensor(x_one_hot)\n",
    "Y = torch.LongTensor(y_data)"
   ]
  },
  {
   "cell_type": "code",
   "execution_count": 8,
   "id": "third-secretary",
   "metadata": {},
   "outputs": [],
   "source": [
    "# declare RNN\n",
    "rnn = torch.nn.RNN(dic_size, hidden_size, batch_first=True) # batch_first=True 는 batch_dimension이 가장 앞으로"
   ]
  },
  {
   "cell_type": "code",
   "execution_count": 9,
   "id": "dressed-registrar",
   "metadata": {},
   "outputs": [],
   "source": [
    "# loss & optimizer setting\n",
    "criterion = torch.nn.CrossEntropyLoss()\n",
    "optimizer = optim.Adam(rnn.parameters(), learning_rate) # 최적화"
   ]
  },
  {
   "cell_type": "code",
   "execution_count": 10,
   "id": "compatible-extension",
   "metadata": {},
   "outputs": [
    {
     "name": "stdout",
     "output_type": "stream",
     "text": [
      "0 loss:  2.1659820079803467 prediction:  [[7 0 5 7 8 6 2 7 7 7 8 5 7 7 6]] true Y:  [[7, 3, 5, 2, 9, 6, 5, 8, 4, 1, 0, 5, 2, 9, 6]] prediction str:  it iwuyiiiw iiu\n",
      "1 loss:  1.8518487215042114 prediction:  [[7 4 5 7 9 6 5 8 4 5 5 5 6 5 6]] true Y:  [[7, 3, 5, 2, 9, 6, 5, 8, 4, 1, 0, 5, 2, 9, 6]] prediction str:  ia iou wa   u u\n",
      "2 loss:  1.5781149864196777 prediction:  [[1 4 5 0 9 6 5 8 4 5 0 5 0 9 6]] true Y:  [[7, 3, 5, 2, 9, 6, 5, 8, 4, 1, 0, 5, 2, 9, 6]] prediction str:  na tou wa t tou\n",
      "3 loss:  1.4471590518951416 prediction:  [[1 4 5 2 9 6 5 8 4 1 0 5 2 9 6]] true Y:  [[7, 3, 5, 2, 9, 6, 5, 8, 4, 1, 0, 5, 2, 9, 6]] prediction str:  na you want you\n",
      "4 loss:  1.353110671043396 prediction:  [[2 3 5 2 9 6 5 8 4 1 0 5 2 9 6]] true Y:  [[7, 3, 5, 2, 9, 6, 5, 8, 4, 1, 0, 5, 2, 9, 6]] prediction str:  yf you want you\n",
      "5 loss:  1.2719032764434814 prediction:  [[7 3 5 2 9 6 5 2 9 5 2 5 2 9 6]] true Y:  [[7, 3, 5, 2, 9, 6, 5, 8, 4, 1, 0, 5, 2, 9, 6]] prediction str:  if you yo y you\n",
      "6 loss:  1.2311134338378906 prediction:  [[7 3 5 2 9 6 5 2 9 5 2 5 2 9 6]] true Y:  [[7, 3, 5, 2, 9, 6, 5, 8, 4, 1, 0, 5, 2, 9, 6]] prediction str:  if you yo y you\n",
      "7 loss:  1.1677048206329346 prediction:  [[7 3 5 2 9 6 5 2 9 5 2 5 2 9 6]] true Y:  [[7, 3, 5, 2, 9, 6, 5, 8, 4, 1, 0, 5, 2, 9, 6]] prediction str:  if you yo y you\n",
      "8 loss:  1.131503701210022 prediction:  [[7 3 5 2 9 6 5 2 4 5 2 5 2 9 6]] true Y:  [[7, 3, 5, 2, 9, 6, 5, 8, 4, 1, 0, 5, 2, 9, 6]] prediction str:  if you ya y you\n",
      "9 loss:  1.1075937747955322 prediction:  [[7 3 5 2 9 6 5 8 4 5 0 5 2 9 6]] true Y:  [[7, 3, 5, 2, 9, 6, 5, 8, 4, 1, 0, 5, 2, 9, 6]] prediction str:  if you wa t you\n",
      "10 loss:  1.0813132524490356 prediction:  [[7 3 5 2 9 6 5 8 4 5 0 5 2 9 6]] true Y:  [[7, 3, 5, 2, 9, 6, 5, 8, 4, 1, 0, 5, 2, 9, 6]] prediction str:  if you wa t you\n",
      "11 loss:  1.0556632280349731 prediction:  [[7 3 5 2 9 6 5 8 4 5 0 5 2 9 6]] true Y:  [[7, 3, 5, 2, 9, 6, 5, 8, 4, 1, 0, 5, 2, 9, 6]] prediction str:  if you wa t you\n",
      "12 loss:  1.035014271736145 prediction:  [[7 3 5 2 9 6 5 8 4 5 0 5 2 9 6]] true Y:  [[7, 3, 5, 2, 9, 6, 5, 8, 4, 1, 0, 5, 2, 9, 6]] prediction str:  if you wa t you\n",
      "13 loss:  1.0183323621749878 prediction:  [[7 3 5 2 9 6 5 8 4 5 0 5 2 9 6]] true Y:  [[7, 3, 5, 2, 9, 6, 5, 8, 4, 1, 0, 5, 2, 9, 6]] prediction str:  if you wa t you\n",
      "14 loss:  0.9968308806419373 prediction:  [[7 3 5 2 9 6 5 8 4 5 0 5 2 9 6]] true Y:  [[7, 3, 5, 2, 9, 6, 5, 8, 4, 1, 0, 5, 2, 9, 6]] prediction str:  if you wa t you\n",
      "15 loss:  0.9738495945930481 prediction:  [[7 3 5 2 9 6 5 8 4 5 0 5 2 9 6]] true Y:  [[7, 3, 5, 2, 9, 6, 5, 8, 4, 1, 0, 5, 2, 9, 6]] prediction str:  if you wa t you\n",
      "16 loss:  0.9561522603034973 prediction:  [[7 3 5 2 9 6 5 8 4 1 0 5 2 9 6]] true Y:  [[7, 3, 5, 2, 9, 6, 5, 8, 4, 1, 0, 5, 2, 9, 6]] prediction str:  if you want you\n",
      "17 loss:  0.940833330154419 prediction:  [[7 3 5 2 9 6 5 8 4 1 0 5 2 9 6]] true Y:  [[7, 3, 5, 2, 9, 6, 5, 8, 4, 1, 0, 5, 2, 9, 6]] prediction str:  if you want you\n",
      "18 loss:  0.9236725568771362 prediction:  [[7 3 5 2 9 6 5 8 4 1 0 5 2 9 6]] true Y:  [[7, 3, 5, 2, 9, 6, 5, 8, 4, 1, 0, 5, 2, 9, 6]] prediction str:  if you want you\n",
      "19 loss:  0.9088048934936523 prediction:  [[7 3 5 2 9 6 5 8 4 1 0 5 2 9 6]] true Y:  [[7, 3, 5, 2, 9, 6, 5, 8, 4, 1, 0, 5, 2, 9, 6]] prediction str:  if you want you\n",
      "20 loss:  0.898427426815033 prediction:  [[7 3 5 2 9 6 5 8 4 1 0 5 2 9 6]] true Y:  [[7, 3, 5, 2, 9, 6, 5, 8, 4, 1, 0, 5, 2, 9, 6]] prediction str:  if you want you\n",
      "21 loss:  0.8860340714454651 prediction:  [[7 3 5 2 9 6 5 8 4 1 0 5 2 9 6]] true Y:  [[7, 3, 5, 2, 9, 6, 5, 8, 4, 1, 0, 5, 2, 9, 6]] prediction str:  if you want you\n",
      "22 loss:  0.8743206858634949 prediction:  [[7 3 5 2 9 6 5 8 4 1 0 5 2 9 6]] true Y:  [[7, 3, 5, 2, 9, 6, 5, 8, 4, 1, 0, 5, 2, 9, 6]] prediction str:  if you want you\n",
      "23 loss:  0.8657312393188477 prediction:  [[7 3 5 2 9 6 5 8 4 1 0 5 2 9 6]] true Y:  [[7, 3, 5, 2, 9, 6, 5, 8, 4, 1, 0, 5, 2, 9, 6]] prediction str:  if you want you\n",
      "24 loss:  0.8589513897895813 prediction:  [[7 3 5 2 9 6 5 8 4 1 0 5 2 9 6]] true Y:  [[7, 3, 5, 2, 9, 6, 5, 8, 4, 1, 0, 5, 2, 9, 6]] prediction str:  if you want you\n",
      "25 loss:  0.8531482815742493 prediction:  [[7 3 5 2 9 6 5 8 4 1 0 5 2 9 6]] true Y:  [[7, 3, 5, 2, 9, 6, 5, 8, 4, 1, 0, 5, 2, 9, 6]] prediction str:  if you want you\n",
      "26 loss:  0.848118007183075 prediction:  [[7 3 5 2 9 6 5 8 4 1 0 5 2 9 6]] true Y:  [[7, 3, 5, 2, 9, 6, 5, 8, 4, 1, 0, 5, 2, 9, 6]] prediction str:  if you want you\n",
      "27 loss:  0.8435658812522888 prediction:  [[7 3 5 2 9 6 5 8 4 1 0 5 2 9 6]] true Y:  [[7, 3, 5, 2, 9, 6, 5, 8, 4, 1, 0, 5, 2, 9, 6]] prediction str:  if you want you\n",
      "28 loss:  0.8391851782798767 prediction:  [[7 3 5 2 9 6 5 8 4 1 0 5 2 9 6]] true Y:  [[7, 3, 5, 2, 9, 6, 5, 8, 4, 1, 0, 5, 2, 9, 6]] prediction str:  if you want you\n",
      "29 loss:  0.8352409601211548 prediction:  [[7 3 5 2 9 6 5 8 4 1 0 5 2 9 6]] true Y:  [[7, 3, 5, 2, 9, 6, 5, 8, 4, 1, 0, 5, 2, 9, 6]] prediction str:  if you want you\n",
      "30 loss:  0.8322001099586487 prediction:  [[7 3 5 2 9 6 5 8 4 1 0 5 2 9 6]] true Y:  [[7, 3, 5, 2, 9, 6, 5, 8, 4, 1, 0, 5, 2, 9, 6]] prediction str:  if you want you\n",
      "31 loss:  0.8299826979637146 prediction:  [[7 3 5 2 9 6 5 8 4 1 0 5 2 9 6]] true Y:  [[7, 3, 5, 2, 9, 6, 5, 8, 4, 1, 0, 5, 2, 9, 6]] prediction str:  if you want you\n",
      "32 loss:  0.828467071056366 prediction:  [[7 3 5 2 9 6 5 8 4 1 0 5 2 9 6]] true Y:  [[7, 3, 5, 2, 9, 6, 5, 8, 4, 1, 0, 5, 2, 9, 6]] prediction str:  if you want you\n",
      "33 loss:  0.8274544477462769 prediction:  [[7 3 5 2 9 6 5 8 4 1 0 5 2 9 6]] true Y:  [[7, 3, 5, 2, 9, 6, 5, 8, 4, 1, 0, 5, 2, 9, 6]] prediction str:  if you want you\n",
      "34 loss:  0.8265317678451538 prediction:  [[7 3 5 2 9 6 5 8 4 1 0 5 2 9 6]] true Y:  [[7, 3, 5, 2, 9, 6, 5, 8, 4, 1, 0, 5, 2, 9, 6]] prediction str:  if you want you\n",
      "35 loss:  0.8254117369651794 prediction:  [[7 3 5 2 9 6 5 8 4 1 0 5 2 9 6]] true Y:  [[7, 3, 5, 2, 9, 6, 5, 8, 4, 1, 0, 5, 2, 9, 6]] prediction str:  if you want you\n",
      "36 loss:  0.824089765548706 prediction:  [[7 3 5 2 9 6 5 8 4 1 0 5 2 9 6]] true Y:  [[7, 3, 5, 2, 9, 6, 5, 8, 4, 1, 0, 5, 2, 9, 6]] prediction str:  if you want you\n",
      "37 loss:  0.8228561282157898 prediction:  [[7 3 5 2 9 6 5 8 4 1 0 5 2 9 6]] true Y:  [[7, 3, 5, 2, 9, 6, 5, 8, 4, 1, 0, 5, 2, 9, 6]] prediction str:  if you want you\n",
      "38 loss:  0.8220028281211853 prediction:  [[7 3 5 2 9 6 5 8 4 1 0 5 2 9 6]] true Y:  [[7, 3, 5, 2, 9, 6, 5, 8, 4, 1, 0, 5, 2, 9, 6]] prediction str:  if you want you\n",
      "39 loss:  0.8213127851486206 prediction:  [[7 3 5 2 9 6 5 8 4 1 0 5 2 9 6]] true Y:  [[7, 3, 5, 2, 9, 6, 5, 8, 4, 1, 0, 5, 2, 9, 6]] prediction str:  if you want you\n",
      "40 loss:  0.8206498622894287 prediction:  [[7 3 5 2 9 6 5 8 4 1 0 5 2 9 6]] true Y:  [[7, 3, 5, 2, 9, 6, 5, 8, 4, 1, 0, 5, 2, 9, 6]] prediction str:  if you want you\n",
      "41 loss:  0.8201606869697571 prediction:  [[7 3 5 2 9 6 5 8 4 1 0 5 2 9 6]] true Y:  [[7, 3, 5, 2, 9, 6, 5, 8, 4, 1, 0, 5, 2, 9, 6]] prediction str:  if you want you\n",
      "42 loss:  0.8196415305137634 prediction:  [[7 3 5 2 9 6 5 8 4 1 0 5 2 9 6]] true Y:  [[7, 3, 5, 2, 9, 6, 5, 8, 4, 1, 0, 5, 2, 9, 6]] prediction str:  if you want you\n",
      "43 loss:  0.818950355052948 prediction:  [[7 3 5 2 9 6 5 8 4 1 0 5 2 9 6]] true Y:  [[7, 3, 5, 2, 9, 6, 5, 8, 4, 1, 0, 5, 2, 9, 6]] prediction str:  if you want you\n",
      "44 loss:  0.8182583451271057 prediction:  [[7 3 5 2 9 6 5 8 4 1 0 5 2 9 6]] true Y:  [[7, 3, 5, 2, 9, 6, 5, 8, 4, 1, 0, 5, 2, 9, 6]] prediction str:  if you want you\n",
      "45 loss:  0.8177712559700012 prediction:  [[7 3 5 2 9 6 5 8 4 1 0 5 2 9 6]] true Y:  [[7, 3, 5, 2, 9, 6, 5, 8, 4, 1, 0, 5, 2, 9, 6]] prediction str:  if you want you\n",
      "46 loss:  0.8173392415046692 prediction:  [[7 3 5 2 9 6 5 8 4 1 0 5 2 9 6]] true Y:  [[7, 3, 5, 2, 9, 6, 5, 8, 4, 1, 0, 5, 2, 9, 6]] prediction str:  if you want you\n",
      "47 loss:  0.8169123530387878 prediction:  [[7 3 5 2 9 6 5 8 4 1 0 5 2 9 6]] true Y:  [[7, 3, 5, 2, 9, 6, 5, 8, 4, 1, 0, 5, 2, 9, 6]] prediction str:  if you want you\n",
      "48 loss:  0.8166468143463135 prediction:  [[7 3 5 2 9 6 5 8 4 1 0 5 2 9 6]] true Y:  [[7, 3, 5, 2, 9, 6, 5, 8, 4, 1, 0, 5, 2, 9, 6]] prediction str:  if you want you\n",
      "49 loss:  0.8164341449737549 prediction:  [[7 3 5 2 9 6 5 8 4 1 0 5 2 9 6]] true Y:  [[7, 3, 5, 2, 9, 6, 5, 8, 4, 1, 0, 5, 2, 9, 6]] prediction str:  if you want you\n"
     ]
    }
   ],
   "source": [
    "# start training\n",
    "for i in range(50):\n",
    "    optimizer.zero_grad()\n",
    "    outputs, _status = rnn(X) # _status : 다음 input이 있으면 그다음 input은 RNN 안에서 계산할 때 쓰이게 될 hidden state -> 여기서는 주어진 모든 input을 다 처리하고 나오는 hidden state라서 따로 쓰이지는 않음\n",
    "    loss = criterion(outputs.view(-1, dic_size), Y.view(-1))\n",
    "    loss.backward()\n",
    "    optimizer.step()\n",
    "    \n",
    "    # 실제로 model이 어떻게 예측했는지에 대해 알아보는 코드\n",
    "    result = outputs.data.numpy().argmax(axis=2) # argmax : 가장 큰 숫자가 있는 index 가져옴\n",
    "    result_str = ''.join([char_set[c] for c in np.squeeze(result)]) # 가장 큰 index의 character 가져온 후 join으로 하나의 string\n",
    "    print(i, \"loss: \", loss.item(), \"prediction: \", result, \"true Y: \", y_data, \"prediction str: \", result_str)"
   ]
  }
 ],
 "metadata": {
  "kernelspec": {
   "display_name": "Python 3",
   "language": "python",
   "name": "python3"
  },
  "language_info": {
   "codemirror_mode": {
    "name": "ipython",
    "version": 3
   },
   "file_extension": ".py",
   "mimetype": "text/x-python",
   "name": "python",
   "nbconvert_exporter": "python",
   "pygments_lexer": "ipython3",
   "version": "3.8.5"
  }
 },
 "nbformat": 4,
 "nbformat_minor": 5
}
