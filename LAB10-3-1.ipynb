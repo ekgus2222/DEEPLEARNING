{
 "cells": [
  {
   "cell_type": "markdown",
   "id": "double-antigua",
   "metadata": {},
   "source": [
    "# 10-3-1 Visdom Example"
   ]
  },
  {
   "cell_type": "code",
   "execution_count": 1,
   "id": "normal-recorder",
   "metadata": {},
   "outputs": [],
   "source": [
    "import torch\n",
    "import torch.nn as nn\n",
    "\n",
    "import torchvision\n",
    "import torchvision.datasets as dsets"
   ]
  },
  {
   "cell_type": "markdown",
   "id": "integrated-merit",
   "metadata": {},
   "source": [
    "### import visdom"
   ]
  },
  {
   "cell_type": "code",
   "execution_count": 2,
   "id": "integrated-blind",
   "metadata": {},
   "outputs": [
    {
     "name": "stderr",
     "output_type": "stream",
     "text": [
      "Setting up a new session...\n"
     ]
    }
   ],
   "source": [
    "import visdom\n",
    "vis = visdom.Visdom()"
   ]
  },
  {
   "cell_type": "markdown",
   "id": "framed-louisiana",
   "metadata": {},
   "source": [
    "### Text"
   ]
  },
  {
   "cell_type": "code",
   "execution_count": 3,
   "id": "alternative-vienna",
   "metadata": {},
   "outputs": [
    {
     "data": {
      "text/plain": [
       "'window_3949c6f37cf2a6'"
      ]
     },
     "execution_count": 3,
     "metadata": {},
     "output_type": "execute_result"
    }
   ],
   "source": [
    "vis.text(\"Hello, world!\",env=\"main\") # env는 없어도 되는데 한번에 창 끌 때 편리"
   ]
  },
  {
   "cell_type": "markdown",
   "id": "artificial-italian",
   "metadata": {},
   "source": [
    "### image"
   ]
  },
  {
   "cell_type": "code",
   "execution_count": 4,
   "id": "apparent-georgia",
   "metadata": {},
   "outputs": [
    {
     "data": {
      "text/plain": [
       "'window_3949c715081efc'"
      ]
     },
     "execution_count": 4,
     "metadata": {},
     "output_type": "execute_result"
    }
   ],
   "source": [
    "a = torch.randn(3,200,200) # RGB, 200 x 200\n",
    "vis.image(a)"
   ]
  },
  {
   "cell_type": "markdown",
   "id": "classified-myrtle",
   "metadata": {},
   "source": [
    "### images"
   ]
  },
  {
   "cell_type": "code",
   "execution_count": 6,
   "id": "instrumental-target",
   "metadata": {},
   "outputs": [
    {
     "data": {
      "text/plain": [
       "'window_3949c7422a0b0c'"
      ]
     },
     "execution_count": 6,
     "metadata": {},
     "output_type": "execute_result"
    }
   ],
   "source": [
    "vis.images(torch.Tensor(3,3,200,200))"
   ]
  },
  {
   "cell_type": "markdown",
   "id": "developed-rebate",
   "metadata": {},
   "source": [
    "### example ( using MNIST and CIFAR10 )"
   ]
  },
  {
   "cell_type": "code",
   "execution_count": 7,
   "id": "difficult-magic",
   "metadata": {},
   "outputs": [
    {
     "name": "stdout",
     "output_type": "stream",
     "text": [
      "Downloading https://www.cs.toronto.edu/~kriz/cifar-10-python.tar.gz to ./cifar10\\cifar-10-python.tar.gz\n"
     ]
    },
    {
     "name": "stderr",
     "output_type": "stream",
     "text": [
      "14.8%IOPub message rate exceeded.\n",
      "The notebook server will temporarily stop sending output\n",
      "to the client in order to avoid crashing it.\n",
      "To change this limit, set the config variable\n",
      "`--NotebookApp.iopub_msg_rate_limit`.\n",
      "\n",
      "Current values:\n",
      "NotebookApp.iopub_msg_rate_limit=1000.0 (msgs/sec)\n",
      "NotebookApp.rate_limit_window=3.0 (secs)\n",
      "\n",
      "38.8%IOPub message rate exceeded.\n",
      "The notebook server will temporarily stop sending output\n",
      "to the client in order to avoid crashing it.\n",
      "To change this limit, set the config variable\n",
      "`--NotebookApp.iopub_msg_rate_limit`.\n",
      "\n",
      "Current values:\n",
      "NotebookApp.iopub_msg_rate_limit=1000.0 (msgs/sec)\n",
      "NotebookApp.rate_limit_window=3.0 (secs)\n",
      "\n",
      "63.9%IOPub message rate exceeded.\n",
      "The notebook server will temporarily stop sending output\n",
      "to the client in order to avoid crashing it.\n",
      "To change this limit, set the config variable\n",
      "`--NotebookApp.iopub_msg_rate_limit`.\n",
      "\n",
      "Current values:\n",
      "NotebookApp.iopub_msg_rate_limit=1000.0 (msgs/sec)\n",
      "NotebookApp.rate_limit_window=3.0 (secs)\n",
      "\n",
      "89.3%IOPub message rate exceeded.\n",
      "The notebook server will temporarily stop sending output\n",
      "to the client in order to avoid crashing it.\n",
      "To change this limit, set the config variable\n",
      "`--NotebookApp.iopub_msg_rate_limit`.\n",
      "\n",
      "Current values:\n",
      "NotebookApp.iopub_msg_rate_limit=1000.0 (msgs/sec)\n",
      "NotebookApp.rate_limit_window=3.0 (secs)\n",
      "\n",
      "100.0%"
     ]
    },
    {
     "name": "stdout",
     "output_type": "stream",
     "text": [
      "Extracting ./cifar10\\cifar-10-python.tar.gz to ./cifar10\n"
     ]
    }
   ],
   "source": [
    "MNIST = dsets.MNIST(root=\"./MNIST_data\",train = True,transform=torchvision.transforms.ToTensor(), download=True)\n",
    "cifar10 = dsets.CIFAR10(root=\"./cifar10\",train = True, transform=torchvision.transforms.ToTensor(),download=True)"
   ]
  },
  {
   "cell_type": "markdown",
   "id": "liquid-remark",
   "metadata": {},
   "source": [
    "###### CIFAR10"
   ]
  },
  {
   "cell_type": "code",
   "execution_count": 8,
   "id": "independent-woman",
   "metadata": {},
   "outputs": [
    {
     "name": "stdout",
     "output_type": "stream",
     "text": [
      "torch.Size([3, 32, 32])\n"
     ]
    },
    {
     "data": {
      "text/plain": [
       "'window_3949c7ab4c7b3a'"
      ]
     },
     "execution_count": 8,
     "metadata": {},
     "output_type": "execute_result"
    }
   ],
   "source": [
    "data = cifar10.__getitem__(0)  # 첫 번째 data를 가지고 옴\n",
    "print(data[0].shape)\n",
    "vis.images(data[0],env=\"main\")"
   ]
  },
  {
   "cell_type": "markdown",
   "id": "elementary-default",
   "metadata": {},
   "source": [
    "###### MNIST"
   ]
  },
  {
   "cell_type": "code",
   "execution_count": 10,
   "id": "convinced-contribution",
   "metadata": {},
   "outputs": [
    {
     "name": "stdout",
     "output_type": "stream",
     "text": [
      "torch.Size([1, 28, 28])\n"
     ]
    },
    {
     "data": {
      "text/plain": [
       "'window_3949c7fa071e28'"
      ]
     },
     "execution_count": 10,
     "metadata": {},
     "output_type": "execute_result"
    }
   ],
   "source": [
    "data = MNIST.__getitem__(0)\n",
    "print(data[0].shape)\n",
    "vis.images(data[0],env=\"main\")"
   ]
  },
  {
   "cell_type": "markdown",
   "id": "lesser-attempt",
   "metadata": {},
   "source": [
    "###### Check dataset"
   ]
  },
  {
   "cell_type": "code",
   "execution_count": 12,
   "id": "connected-breathing",
   "metadata": {},
   "outputs": [],
   "source": [
    "data_loader = torch.utils.data.DataLoader(dataset = MNIST,\n",
    "                                          batch_size = 32, # 32를 한 번에 봄\n",
    "                                          shuffle = False)"
   ]
  },
  {
   "cell_type": "code",
   "execution_count": 13,
   "id": "specified-effectiveness",
   "metadata": {},
   "outputs": [
    {
     "name": "stdout",
     "output_type": "stream",
     "text": [
      "torch.Size([32, 1, 28, 28])\n"
     ]
    }
   ],
   "source": [
    "for num, value in enumerate(data_loader):\n",
    "    value = value[0]\n",
    "    print(value.shape)\n",
    "    vis.images(value)\n",
    "    break"
   ]
  },
  {
   "cell_type": "markdown",
   "id": "precise-lloyd",
   "metadata": {},
   "source": [
    "### Line Plot\n",
    "학습을 진행하면서 loss를 graph로 보기"
   ]
  },
  {
   "cell_type": "code",
   "execution_count": 39,
   "id": "amazing-exhibition",
   "metadata": {},
   "outputs": [],
   "source": [
    "Y_data = torch.randn(5) # 숫자는 점의 개수, X 값을 넣지 않으면 X축은 무조건 0~1 사이의 값으로만 설정\n",
    "plt = vis.line(Y=Y_data)"
   ]
  },
  {
   "cell_type": "code",
   "execution_count": 40,
   "id": "impossible-gather",
   "metadata": {},
   "outputs": [],
   "source": [
    "X_data = torch.Tensor([1,2,3,4,5]) \n",
    "plt = vis.line(Y=Y_data, X=X_data) # X 값을 넣으면 범위가 바뀌는 모습을 볼 수 있음"
   ]
  },
  {
   "cell_type": "markdown",
   "id": "published-saskatchewan",
   "metadata": {},
   "source": [
    "###### Line update"
   ]
  },
  {
   "cell_type": "code",
   "execution_count": 41,
   "id": "color-wayne",
   "metadata": {},
   "outputs": [
    {
     "data": {
      "text/plain": [
       "'window_3949d1dff59916'"
      ]
     },
     "execution_count": 41,
     "metadata": {},
     "output_type": "execute_result"
    }
   ],
   "source": [
    "Y_append = torch.randn(1) # 들어가야 할 loss값\n",
    "X_append = torch.Tensor([6]) # 들어가야 할 X 값\n",
    "\n",
    "# vis.line(추가시킬 값(X,Y), 추가하는 값의 index, 업데이트할 윈도우의 이름,append는 확장\n",
    "vis.line(Y=Y_append, X=X_append, win=plt, update='append') "
   ]
  },
  {
   "cell_type": "markdown",
   "id": "bright-situation",
   "metadata": {},
   "source": [
    "##### multiple Line on single windows"
   ]
  },
  {
   "cell_type": "code",
   "execution_count": 42,
   "id": "legitimate-allen",
   "metadata": {},
   "outputs": [
    {
     "name": "stdout",
     "output_type": "stream",
     "text": [
      "torch.Size([10])\n",
      "torch.Size([10, 1])\n",
      "torch.Size([10, 2])\n"
     ]
    }
   ],
   "source": [
    "# line을 2개 그리려면 Y랑 똑같은 shape를 갖고 있는 index 값을 넣어줘야 함.\n",
    "# Y가 (10,2)라서 num을 아래처럼 선언해줌\n",
    "\n",
    "num = torch.Tensor(list(range(0,10))) # Tensor 10개짜리 생성\n",
    "print(num.shape)\n",
    "num = num.view(-1,1) # view를 사용해서 index를 바꿈\n",
    "print(num.shape)\n",
    "num = torch.cat((num,num),dim=1)\n",
    "print(num.shape)\n",
    "\n",
    "pit = vis.line(Y=torch.randn(10,2),X=num) # torch.randn 해서 (10,2)fmf sjgdma   "
   ]
  },
  {
   "cell_type": "markdown",
   "id": "informative-pontiac",
   "metadata": {},
   "source": [
    "###### Line info"
   ]
  },
  {
   "cell_type": "code",
   "execution_count": 44,
   "id": "academic-possession",
   "metadata": {},
   "outputs": [],
   "source": [
    "# opts = dict() 으로 만듦 (title : 제목, showlegend : 축의 이름)\n",
    "plt = vis.line(Y=Y_data, X=X_data, opts = dict(title='Test',showlegend=True))"
   ]
  },
  {
   "cell_type": "code",
   "execution_count": 47,
   "id": "outdoor-distributor",
   "metadata": {},
   "outputs": [],
   "source": [
    "# legend : 축의 이름 설정  -> showlegend는 그 값을 보여주세요\n",
    "plt = vis.line(Y=Y_data, X=X_data, opts = dict(title='Test',legend=['1번'],showlegend = True))"
   ]
  },
  {
   "cell_type": "code",
   "execution_count": 48,
   "id": "common-light",
   "metadata": {},
   "outputs": [],
   "source": [
    "plt = vis.line(Y=torch.randn(10,2), X=num, opts = dict(title='Test',legend=['1번','2번'],showlegend = True))"
   ]
  },
  {
   "cell_type": "markdown",
   "id": "encouraging-university",
   "metadata": {},
   "source": [
    "### make function for update line"
   ]
  },
  {
   "cell_type": "code",
   "execution_count": 52,
   "id": "dated-romantic",
   "metadata": {},
   "outputs": [],
   "source": [
    "def loss_tracker(loss_plot, loss_value, num):  # update할 plot의 이름, loss값이 무엇인지, index(loss값이 들어갈 자리)\n",
    "    # num&loss_value, are Tensor\n",
    "    vis.line(X=num,\n",
    "             Y=loss_value,\n",
    "             win=loss_plot,\n",
    "             update='append'\n",
    "            )"
   ]
  },
  {
   "cell_type": "code",
   "execution_count": 53,
   "id": "duplicate-tuning",
   "metadata": {},
   "outputs": [],
   "source": [
    "#plot 창 띄우기\n",
    "plt = vis.line(Y=torch.Tensor(1).zero_())\n",
    "\n",
    "for i in range(500):\n",
    "    loss = torch.randn(1) + i\n",
    "    loss_tracker(plt,loss,torch.Tensor([i])) # plt라는 plot에 loss값을 업데이트 해달라. 업데이트하는 index는 i"
   ]
  },
  {
   "cell_type": "markdown",
   "id": "static-louisiana",
   "metadata": {},
   "source": [
    "### close the windor"
   ]
  },
  {
   "cell_type": "code",
   "execution_count": 54,
   "id": "prescription-authority",
   "metadata": {},
   "outputs": [
    {
     "data": {
      "text/plain": [
       "''"
      ]
     },
     "execution_count": 54,
     "metadata": {},
     "output_type": "execute_result"
    }
   ],
   "source": [
    "vis.close(env=\"main\")"
   ]
  }
 ],
 "metadata": {
  "kernelspec": {
   "display_name": "Python 3",
   "language": "python",
   "name": "python3"
  },
  "language_info": {
   "codemirror_mode": {
    "name": "ipython",
    "version": 3
   },
   "file_extension": ".py",
   "mimetype": "text/x-python",
   "name": "python",
   "nbconvert_exporter": "python",
   "pygments_lexer": "ipython3",
   "version": "3.8.5"
  }
 },
 "nbformat": 4,
 "nbformat_minor": 5
}
