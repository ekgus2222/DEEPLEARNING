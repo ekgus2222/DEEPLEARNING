{
 "cells": [
  {
   "cell_type": "code",
   "execution_count": 1,
   "id": "controlled-framework",
   "metadata": {},
   "outputs": [],
   "source": [
    "import torch\n",
    "import torchvision.datasets as dsets\n",
    "import torch.nn as nn\n",
    "import torchvision.transforms as transforms\n",
    "\n",
    "import torch.nn.init"
   ]
  },
  {
   "cell_type": "code",
   "execution_count": 2,
   "id": "invisible-mother",
   "metadata": {},
   "outputs": [],
   "source": [
    "device = 'cuda' if torch.cuda.is_available() else 'cpu'\n",
    "\n",
    "torch.manual_seed(777)  #random value 고정 코드\n",
    "if device == 'cuda':\n",
    "    torch.cuda.manual_seed_all(777)"
   ]
  },
  {
   "cell_type": "code",
   "execution_count": 3,
   "id": "cooperative-sharp",
   "metadata": {},
   "outputs": [
    {
     "data": {
      "text/plain": [
       "True"
      ]
     },
     "execution_count": 3,
     "metadata": {},
     "output_type": "execute_result"
    }
   ],
   "source": [
    "torch.cuda.is_available()"
   ]
  },
  {
   "cell_type": "code",
   "execution_count": 4,
   "id": "resistant-villa",
   "metadata": {},
   "outputs": [],
   "source": [
    "#parameters -> 나중에 넣어도 상관없음\n",
    "learning_rate = 0.001\n",
    "training_epochs = 15\n",
    "batch_size = 100  #batch_size는 100개가 된다"
   ]
  },
  {
   "cell_type": "code",
   "execution_count": 5,
   "id": "contemporary-donna",
   "metadata": {},
   "outputs": [],
   "source": [
    "#MNIST dataset\n",
    "\n",
    "mnist_train = dsets.MNIST(root='MNIST_data/',\n",
    "                        train = True,\n",
    "                        transform = transforms.ToTensor(),  # -> input data를 어떻게 변환할지\n",
    "                                                            # 그냥 받아오면 Tensor value가 아니라서 mnist_data를 Tensor value로 전환\n",
    "                        download = True)\n",
    "\n",
    "mnist_test = dsets.MNIST(root='MNIST_data/',\n",
    "                        train = False,\n",
    "                        transform = transforms.ToTensor(),  # tensor로 변환\n",
    "                        download = True)\n"
   ]
  },
  {
   "cell_type": "code",
   "execution_count": 6,
   "id": "english-governor",
   "metadata": {},
   "outputs": [],
   "source": [
    "data_loader = torch.utils.data.DataLoader(dataset=mnist_train,\n",
    "                                          batch_size = batch_size,\n",
    "                                          shuffle = True, # dataset을 섞은 상태로 던져준다.\n",
    "                                          drop_last=True)"
   ]
  },
  {
   "cell_type": "code",
   "execution_count": 24,
   "id": "accurate-nursing",
   "metadata": {},
   "outputs": [],
   "source": [
    "#model  -> cnn 모듈 만들기\n",
    "\n",
    "class CNN(nn.Module):\n",
    "    \n",
    "    def __init__(self):  # 초기함수 -> 이거 빼먹으면 학습 안됨.\n",
    "        super(CNN,self).__init__()\n",
    "        self.layer1 = nn.Sequential(   # nn.Sequential은 그냥 치고 내가 원하는걸 만들어서 넣는 방식으로 사용\n",
    "            nn.Conv2d(1,32,kernel_size=3, stride=1, padding=1), # layer 한 개 쌓임\n",
    "            nn.ReLU(),\n",
    "            nn.MaxPool2d(2)\n",
    "        )\n",
    "        \n",
    "        self.layer2 = nn.Sequential(\n",
    "            nn.Conv2d(32,64,kernel_size=3,stride=1,padding=1),\n",
    "            nn.ReLU(),\n",
    "            nn.MaxPool2d(2)\n",
    "        )\n",
    "        \n",
    "        #layer 더 쌓기\n",
    "        self.layer3 = nn.Sequential(\n",
    "            nn.Conv2d(64,128,kernel_size=3,stride=1,padding=1),\n",
    "            nn.ReLU(),\n",
    "            nn.MaxPool2d(2)\n",
    "        )\n",
    "        \n",
    "        self.fc1 = nn.Linear(3*3*128, 625)  # 64x7x7 을 MaxPooling(2)로 낮추면 size는 3이 된다. # 출력은 625\n",
    "        self.relu = nn.ReLU()\n",
    "        self.fc2 = nn.Linear(625, 10, bias = True)\n",
    "        torch.nn.init.xavier_uniform_(self.fc1.weight)\n",
    "        torch.nn.init.xavier_uniform_(self.fc2.weight)\n",
    "        \n",
    "    def forward(self,x):\n",
    "        out = self.layer1(x)\n",
    "        out = self.layer2(out)\n",
    "        out = self.layer3(out)\n",
    "        \n",
    "        out = out.view(out.size(0),-1)\n",
    "        out = self.fc1(out)\n",
    "        out = self.relu(out)\n",
    "        out = self.fc2(out)\n",
    "        \n",
    "        return out"
   ]
  },
  {
   "cell_type": "code",
   "execution_count": 25,
   "id": "adjustable-poland",
   "metadata": {},
   "outputs": [],
   "source": [
    "model = CNN().to(device)"
   ]
  },
  {
   "cell_type": "code",
   "execution_count": 26,
   "id": "induced-minority",
   "metadata": {
    "scrolled": true
   },
   "outputs": [
    {
     "data": {
      "text/plain": [
       "CNN(\n",
       "  (layer1): Sequential(\n",
       "    (0): Conv2d(1, 32, kernel_size=(3, 3), stride=(1, 1), padding=(1, 1))\n",
       "    (1): ReLU()\n",
       "    (2): MaxPool2d(kernel_size=2, stride=2, padding=0, dilation=1, ceil_mode=False)\n",
       "  )\n",
       "  (layer2): Sequential(\n",
       "    (0): Conv2d(32, 64, kernel_size=(3, 3), stride=(1, 1), padding=(1, 1))\n",
       "    (1): ReLU()\n",
       "    (2): MaxPool2d(kernel_size=2, stride=2, padding=0, dilation=1, ceil_mode=False)\n",
       "  )\n",
       "  (layer3): Sequential(\n",
       "    (0): Conv2d(64, 128, kernel_size=(3, 3), stride=(1, 1), padding=(1, 1))\n",
       "    (1): ReLU()\n",
       "    (2): MaxPool2d(kernel_size=2, stride=2, padding=0, dilation=1, ceil_mode=False)\n",
       "  )\n",
       "  (fc1): Linear(in_features=1152, out_features=625, bias=True)\n",
       "  (relu): ReLU()\n",
       "  (fc2): Linear(in_features=625, out_features=10, bias=True)\n",
       ")"
      ]
     },
     "execution_count": 26,
     "metadata": {},
     "output_type": "execute_result"
    }
   ],
   "source": [
    "model \n",
    "# layer들을 가지고 있는 모델이 생성"
   ]
  },
  {
   "cell_type": "code",
   "execution_count": 27,
   "id": "strategic-dictionary",
   "metadata": {},
   "outputs": [
    {
     "name": "stdout",
     "output_type": "stream",
     "text": [
      "torch.Size([1, 10])\n"
     ]
    }
   ],
   "source": [
    "# model을 만들면 바로 model을 쓰는 게 아니라 model에 임의의 value 값을 넣어서 테스트해야함\n",
    "value = torch.Tensor(1,1,28,28).to(device)\n",
    "print( (model(value)).shape )"
   ]
  },
  {
   "cell_type": "code",
   "execution_count": 10,
   "id": "otherwise-timber",
   "metadata": {},
   "outputs": [],
   "source": [
    "criterion = nn.CrossEntropyLoss().to(device)\n",
    "optimizer = torch.optim.Adam(model.parameters(),lr=learning_rate)"
   ]
  },
  {
   "cell_type": "code",
   "execution_count": 28,
   "id": "controlled-stationery",
   "metadata": {},
   "outputs": [
    {
     "name": "stdout",
     "output_type": "stream",
     "text": [
      "[Epoch:1] cost = 2.3069839477539062\n",
      "[Epoch:2] cost = 2.3069844245910645\n",
      "[Epoch:3] cost = 2.30698561668396\n",
      "[Epoch:4] cost = 2.3069846630096436\n",
      "[Epoch:5] cost = 2.3069844245910645\n",
      "[Epoch:6] cost = 2.306986093521118\n",
      "[Epoch:7] cost = 2.3069846630096436\n",
      "[Epoch:8] cost = 2.3069841861724854\n",
      "[Epoch:9] cost = 2.3069846630096436\n",
      "[Epoch:10] cost = 2.30698561668396\n",
      "[Epoch:11] cost = 2.3069851398468018\n",
      "[Epoch:12] cost = 2.3069839477539062\n",
      "[Epoch:13] cost = 2.306985855102539\n",
      "[Epoch:14] cost = 2.3069846630096436\n",
      "[Epoch:15] cost = 2.3069846630096436\n",
      "Learning Finished!\n"
     ]
    }
   ],
   "source": [
    "#training\n",
    "total_batch = len(data_loader) # batch_size가 몇인지를 알 수 있음 (전체의 batch가 몇인지)\n",
    "\n",
    "for epoch in range(training_epochs):\n",
    "    avg_cost = 0 #loss를 담을 것\n",
    "    \n",
    "    for X, Y in data_loader: # X = input image, Y = label\n",
    "        # CUDA 연산을 진행하려면 torch.Tensor가 아니라 torch.cuda.Tensor가 되어있어야함\n",
    "        # 없으면 아예 학습이 안된다.\n",
    "        # input data, label data를 device에 맞춰서 설정해주는 작업\n",
    "        X = X.to(device)\n",
    "        Y = Y.to(device)   \n",
    "        \n",
    "        optimizer.zero_grad()\n",
    "        hypothesis = model(X) # model에 input값 넣은 출력값\n",
    "        \n",
    "        # model에 input 값을 집어넣고 나온 cost는 cross_entropy로 계산\n",
    "        cost = criterion(hypothesis, Y) # 가설과 실제 label 사이 차이 계산\n",
    "        cost.backward()\n",
    "        optimizer.step() # cost.backward()값을 토대로 model을 학습시키는 과정\n",
    "        \n",
    "        avg_cost += cost / total_batch\n",
    "        \n",
    "    \n",
    "    print('[Epoch:{}] cost = {}'.format(epoch+1,avg_cost))\n",
    "    \n",
    "print('Learning Finished!')"
   ]
  },
  {
   "cell_type": "code",
   "execution_count": 29,
   "id": "third-prescription",
   "metadata": {},
   "outputs": [
    {
     "name": "stdout",
     "output_type": "stream",
     "text": [
      "Accuracy: 0.09519999474287033\n"
     ]
    }
   ],
   "source": [
    "with torch.no_grad(): # 학습 x , test o\n",
    "    # 아까 mnist_test에서 불러옴\n",
    "    X_test = mnist_test.test_data.view(len(mnist_test),1,28,28).float().to(device) #len()은 전체 값을 불러서 한 번에 집어넣으려고 펼친 것\n",
    "    Y_test = mnist_test.test_labels.to(device)\n",
    "    \n",
    "    prediction = model(X_test) # 한 번에 집어넣음\n",
    "    correct_prediction = torch.argmax(prediction, 1) == Y_test # Y_test와 비교\n",
    "    accuracy = correct_prediction.float().mean() # 평균\n",
    "    print('Accuracy:',accuracy.item())"
   ]
  }
 ],
 "metadata": {
  "kernelspec": {
   "display_name": "Python 3",
   "language": "python",
   "name": "python3"
  },
  "language_info": {
   "codemirror_mode": {
    "name": "ipython",
    "version": 3
   },
   "file_extension": ".py",
   "mimetype": "text/x-python",
   "name": "python",
   "nbconvert_exporter": "python",
   "pygments_lexer": "ipython3",
   "version": "3.8.5"
  }
 },
 "nbformat": 4,
 "nbformat_minor": 5
}
