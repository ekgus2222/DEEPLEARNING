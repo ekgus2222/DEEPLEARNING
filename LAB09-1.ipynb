{
 "cells": [
  {
   "cell_type": "markdown",
   "id": "native-apache",
   "metadata": {},
   "source": [
    "# ReLU"
   ]
  },
  {
   "cell_type": "code",
   "execution_count": 1,
   "id": "better-brisbane",
   "metadata": {},
   "outputs": [],
   "source": [
    "import torch\n",
    "import torchvision.datasets as dsets\n",
    "import torchvision.transforms as transforms\n",
    "import random"
   ]
  },
  {
   "cell_type": "code",
   "execution_count": 2,
   "id": "closing-employment",
   "metadata": {},
   "outputs": [],
   "source": [
    "device = 'cuda' if torch.cuda.is_available() else 'cpu'\n",
    "\n",
    "# for reproducibility\n",
    "random.seed(777)\n",
    "torch.manual_seed(777)\n",
    "if device == 'cuda':\n",
    "    torch.cuda.manual_seed_all(777)"
   ]
  },
  {
   "cell_type": "code",
   "execution_count": 3,
   "id": "positive-pillow",
   "metadata": {},
   "outputs": [],
   "source": [
    "# parameters\n",
    "learning_rate = 0.001\n",
    "training_epochs = 15\n",
    "batch_size = 100"
   ]
  },
  {
   "cell_type": "markdown",
   "id": "editorial-found",
   "metadata": {},
   "source": [
    "### Problem of Sigmoid\n",
    "\n",
    "양 끝의 gradient가 잘 안나와서 loss로부터 전파되는 gradient가 소멸된다 => Vanishing Gradient"
   ]
  },
  {
   "cell_type": "markdown",
   "id": "detailed-morris",
   "metadata": {},
   "source": [
    "### ReLU\n",
    "\n",
    "x의 값에 따라(0을 기준으로) gradient를 0 또는 1으로"
   ]
  },
  {
   "cell_type": "markdown",
   "id": "democratic-surprise",
   "metadata": {},
   "source": [
    "### Optimizer"
   ]
  },
  {
   "cell_type": "markdown",
   "id": "headed-composition",
   "metadata": {},
   "source": [
    "  \n",
    "### ReLU Code"
   ]
  },
  {
   "cell_type": "markdown",
   "id": "pursuant-delta",
   "metadata": {},
   "source": [
    "###### Review : reading data"
   ]
  },
  {
   "cell_type": "code",
   "execution_count": 4,
   "id": "yellow-petite",
   "metadata": {},
   "outputs": [],
   "source": [
    "# MNIST dataset\n",
    "mnist_train = dsets.MNIST(root=\"MNIST_data/\", \n",
    "                          train=True, \n",
    "                          transform=transforms.ToTensor(),\n",
    "                          download=True)\n",
    "mnist_test = dsets.MNIST(root=\"MNIST_data/\",\n",
    "                         train=True,\n",
    "                         transform=transforms.ToTensor(),\n",
    "                         download=True)"
   ]
  },
  {
   "cell_type": "code",
   "execution_count": 7,
   "id": "duplicate-breed",
   "metadata": {},
   "outputs": [],
   "source": [
    "# dataset loader\n",
    "data_loader = torch.utils.data.DataLoader(dataset=mnist_train,\n",
    "                                          batch_size=batch_size,\n",
    "                                          shuffle=True,\n",
    "                                          drop_last=True)"
   ]
  },
  {
   "cell_type": "code",
   "execution_count": 18,
   "id": "surrounded-mayor",
   "metadata": {},
   "outputs": [],
   "source": [
    "# MNIST data image of shape 28 * 28 = 784\n",
    "linear = torch.nn.Linear(784, 10, bias=True).to(device)   "
   ]
  },
  {
   "cell_type": "code",
   "execution_count": 19,
   "id": "present-tamil",
   "metadata": {},
   "outputs": [
    {
     "data": {
      "text/plain": [
       "Parameter containing:\n",
       "tensor([[ 0.4408,  0.0333,  1.2665,  ...,  1.3655,  0.9023,  0.2711],\n",
       "        [-0.8514, -1.0118,  1.3863,  ...,  0.4555,  0.1585, -0.0660],\n",
       "        [-0.3485,  0.7535,  0.6964,  ...,  1.2294,  0.1562, -0.6095],\n",
       "        ...,\n",
       "        [-1.8461, -0.3174, -0.9629,  ...,  0.9100,  0.4152,  0.5850],\n",
       "        [ 1.1215,  1.0075,  0.9530,  ..., -0.5068,  0.8228,  0.3259],\n",
       "        [-1.4698, -1.7320, -0.1814,  ..., -0.8279,  1.6980,  1.9932]],\n",
       "       device='cuda:0', requires_grad=True)"
      ]
     },
     "execution_count": 19,
     "metadata": {},
     "output_type": "execute_result"
    }
   ],
   "source": [
    "# Initialization\n",
    "torch.nn.init.normal_(linear.weight)"
   ]
  },
  {
   "cell_type": "code",
   "execution_count": 20,
   "id": "reliable-burton",
   "metadata": {},
   "outputs": [],
   "source": [
    "# define cost/loss & optimizer\n",
    "criterion = torch.nn.CrossEntropyLoss().to(device)    # Softmax is internally computed.\n",
    "optimizer = torch.optim.Adam(linear.parameters(), lr=learning_rate)"
   ]
  },
  {
   "cell_type": "code",
   "execution_count": 21,
   "id": "norman-boring",
   "metadata": {},
   "outputs": [
    {
     "name": "stdout",
     "output_type": "stream",
     "text": [
      "Epoch: 0001 cost = 5.003168106\n",
      "Epoch: 0002 cost = 1.567474842\n",
      "Epoch: 0003 cost = 1.022292733\n",
      "Epoch: 0004 cost = 0.811989307\n",
      "Epoch: 0005 cost = 0.698020875\n",
      "Epoch: 0006 cost = 0.624068677\n",
      "Epoch: 0007 cost = 0.571655214\n",
      "Epoch: 0008 cost = 0.531443298\n",
      "Epoch: 0009 cost = 0.499901205\n",
      "Epoch: 0010 cost = 0.474057913\n",
      "Epoch: 0011 cost = 0.452617437\n",
      "Epoch: 0012 cost = 0.434431225\n",
      "Epoch: 0013 cost = 0.419008970\n",
      "Epoch: 0014 cost = 0.404837996\n",
      "Epoch: 0015 cost = 0.393492192\n",
      "Learning finished\n"
     ]
    }
   ],
   "source": [
    "total_batch = len(data_loader)\n",
    "for epoch in range(training_epochs):\n",
    "    avg_cost = 0\n",
    "\n",
    "    for X, Y in data_loader:\n",
    "        # reshape input image into [batch_size by 784]\n",
    "        # label is not one-hot encoded\n",
    "        X = X.view(-1, 28 * 28).to(device)\n",
    "        Y = Y.to(device)\n",
    "\n",
    "        optimizer.zero_grad()\n",
    "        hypothesis = linear(X)\n",
    "        cost = criterion(hypothesis, Y)\n",
    "        cost.backward()\n",
    "        optimizer.step()\n",
    "\n",
    "        avg_cost += cost / total_batch\n",
    "\n",
    "    print('Epoch:', '%04d' % (epoch + 1), 'cost =', '{:.9f}'.format(avg_cost))\n",
    "\n",
    "print('Learning finished')"
   ]
  },
  {
   "cell_type": "code",
   "execution_count": 22,
   "id": "blind-investment",
   "metadata": {},
   "outputs": [
    {
     "name": "stdout",
     "output_type": "stream",
     "text": [
      "Accuracy: 0.8915666937828064\n",
      "Label:  4\n",
      "Prediction:  4\n"
     ]
    }
   ],
   "source": [
    "# Test the model using test sets\n",
    "with torch.no_grad():\n",
    "    X_test = mnist_test.test_data.view(-1, 28 * 28).float().to(device)\n",
    "    Y_test = mnist_test.test_labels.to(device)\n",
    "\n",
    "    prediction = linear(X_test)\n",
    "    correct_prediction = torch.argmax(prediction, 1) == Y_test\n",
    "    accuracy = correct_prediction.float().mean()\n",
    "    print('Accuracy:', accuracy.item())\n",
    "\n",
    "    # Get one and predict\n",
    "    r = random.randint(0, len(mnist_test) - 1)\n",
    "    X_single_data = mnist_test.test_data[r:r + 1].view(-1, 28 * 28).float().to(device)\n",
    "    Y_single_data = mnist_test.test_labels[r:r + 1].to(device)\n",
    "\n",
    "    print('Label: ', Y_single_data.item())\n",
    "    single_prediction = linear(X_single_data)\n",
    "    print('Prediction: ', torch.argmax(single_prediction, 1).item())"
   ]
  }
 ],
 "metadata": {
  "kernelspec": {
   "display_name": "Python 3",
   "language": "python",
   "name": "python3"
  },
  "language_info": {
   "codemirror_mode": {
    "name": "ipython",
    "version": 3
   },
   "file_extension": ".py",
   "mimetype": "text/x-python",
   "name": "python",
   "nbconvert_exporter": "python",
   "pygments_lexer": "ipython3",
   "version": "3.8.5"
  }
 },
 "nbformat": 4,
 "nbformat_minor": 5
}
